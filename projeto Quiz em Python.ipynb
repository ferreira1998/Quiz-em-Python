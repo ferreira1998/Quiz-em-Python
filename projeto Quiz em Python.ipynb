{
 "cells": [
  {
   "cell_type": "code",
   "execution_count": 8,
   "id": "df3d5185",
   "metadata": {},
   "outputs": [
    {
     "name": "stdout",
     "output_type": "stream",
     "text": [
      "Seja muito bem vindo ao quiz do Wagner\n",
      "Quer começar ? (S/N)S\n",
      "S\n",
      "Começando...\n",
      "Quem desenvolveu o jogo Grand Theft Auto (GTA)? \n",
      " (A) Rockstar Game \n",
      " (B) Ubisoft \n",
      " (C) Activision \n",
      " (D) EA \n",
      "\n",
      "Resposta : B\n",
      "Incorreto!\n",
      "Qual nome do protagonista do GTA San Andreas?\n",
      " (A) Carlos Jhon \n",
      " (B) Carl Jonhson \n",
      " (C) Carl Jaqueline \n",
      " (D) Carlos Jonhson \n",
      "\n",
      "Respostas:B\n",
      "Correto!\n",
      "Quiz acabou...Pontuação: 1/2\n"
     ]
    }
   ],
   "source": [
    "print(\"Seja muito bem vindo ao quiz do Wagner\")\n",
    "answer_user = input(\"Quer começar ? (S/N)\")\n",
    "print(answer_user)\n",
    "\n",
    "if answer_user != \"S\" :\n",
    "    quit()\n",
    "    \n",
    "score = 0\n",
    "    \n",
    "print(\"Começando...\")\n",
    "print(\"Quem desenvolveu o jogo Grand Theft Auto (GTA)? \\n (A) Rockstar Game \\n (B) Ubisoft \\n (C) Activision \\n (D) EA \\n\")\n",
    "answer_1 = input(\"Resposta : \")\n",
    "\n",
    "if answer_1 == \"A\" :\n",
    "    print(\"Correto!\")\n",
    "    score = score + 1\n",
    "else:\n",
    "    print(\"Incorreto!\")\n",
    "    \n",
    "print(\"Qual nome do protagonista do GTA San Andreas?\\n (A) Carlos Jhon \\n (B) Carl Jonhson \\n (C) Carl Jaqueline \\n (D) Carlos Jonhson \\n\")\n",
    "answer_2 = input(\"Respostas:\")\n",
    "\n",
    "if answer_2 == \"B\":\n",
    "    print(\"Correto!\")\n",
    "    score = score + 1\n",
    "\n",
    "else:\n",
    "    print(\"Incorreto!\")\n",
    "    \n",
    "\n",
    "print(f\"Quiz acabou...Pontuação: {score}/2\")"
   ]
  }
 ],
 "metadata": {
  "kernelspec": {
   "display_name": "Python 3 (ipykernel)",
   "language": "python",
   "name": "python3"
  },
  "language_info": {
   "codemirror_mode": {
    "name": "ipython",
    "version": 3
   },
   "file_extension": ".py",
   "mimetype": "text/x-python",
   "name": "python",
   "nbconvert_exporter": "python",
   "pygments_lexer": "ipython3",
   "version": "3.9.12"
  }
 },
 "nbformat": 4,
 "nbformat_minor": 5
}
